{
 "cells": [
  {
   "cell_type": "code",
   "execution_count": 1,
   "id": "82dfd1c2",
   "metadata": {},
   "outputs": [
    {
     "name": "stdout",
     "output_type": "stream",
     "text": [
      "[12.3, 14.0, 15.0, 27.0]\n",
      "Supply-Demand Model:\n",
      "\t- Demand Equation: Qd = 1000 - 10 * P\n",
      "\t- Supply Equation: Qs = 250 + 5 * P\n",
      "\t- Equilibrium: price = 50, quantity = 500\n",
      "Supply-Demand Model:\n",
      "\t- Demand Equation: Qd = 1000 - 10 * P\n",
      "\t- Supply Equation: Qs = 250 + 5 * P\n",
      "\t- Consumer Surplus = 12500\n",
      "[-250.0, -500.0, 245.0]\n"
     ]
    }
   ],
   "source": [
    "#Question 2\n",
    "s = \"12.3,14,15,27\"\n",
    "print([float(x) for x in s.split(',')]) \n",
    "#takes each element of string s seperated by commas and converts to float type elements of a list\n",
    "\n",
    "#Question 3\n",
    "print(\"Supply-Demand Model:\")\n",
    "print(\"\\t- Demand Equation: Qd = 1000 - 10 * P\")\n",
    "print(\"\\t- Supply Equation: Qs = 250 + 5 * P\")\n",
    "print(\"\\t- Equilibrium: price = 50, quantity = {}\".format(1000-10*50))\n",
    "#price = solution of Qd=Qs and quantity is found by plugging price into Qd - or Qs\n",
    "\n",
    "#Question 4\n",
    "print(\"Supply-Demand Model:\")\n",
    "print(\"\\t- Demand Equation: Qd = 1000 - 10 * P\")\n",
    "print(\"\\t- Supply Equation: Qs = 250 + 5 * P\")\n",
    "print(\"\\t- Consumer Surplus = {}\".format(int(.5*500*(100-50)))) \n",
    "#since curves are both straight lines, the area under the curve can be calculated using the equation for the area of a\n",
    "#triangle where base = equilibrium quantity & height equals max price (y int of demand curve) minus equilibrium price\n",
    "\n",
    "#Question 5\n",
    "def supply(price):\n",
    "    '''Determine supply of a good at a given price. Input: … Output: …'''\n",
    "    qs = 250 + 5 * price\n",
    "    return qs\n",
    "\n",
    "def demand(price, slope = -5, intercept = 1000):\n",
    "    '''Determine supply of a good at a given price. Input: … Output: …'''\n",
    "    qd = intercept + slope * price\n",
    "    return qd\n",
    "\n",
    "def q5(prices):\n",
    "    '''Determine shortage amount for given prices where negative shortage indicates surplus'''\n",
    "    shortages=[]\n",
    "    for x in prices:\n",
    "        shortages.append((demand(float(x))-supply(float(x))))\n",
    "    return shortages\n",
    "#function takes in a list as an argument, then for each element of the list it converts the element into a float type\n",
    "#and calculates qd-qs and adds the result to a new list labeled shortages\n",
    "\n",
    "print(q5([100,125,50.5]))"
   ]
  }
 ],
 "metadata": {
  "kernelspec": {
   "display_name": "Python 3",
   "language": "python",
   "name": "python3"
  },
  "language_info": {
   "codemirror_mode": {
    "name": "ipython",
    "version": 3
   },
   "file_extension": ".py",
   "mimetype": "text/x-python",
   "name": "python",
   "nbconvert_exporter": "python",
   "pygments_lexer": "ipython3",
   "version": "3.8.8"
  }
 },
 "nbformat": 4,
 "nbformat_minor": 5
}
