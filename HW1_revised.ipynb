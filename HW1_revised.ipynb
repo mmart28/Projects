{
 "cells": [
  {
   "cell_type": "markdown",
   "metadata": {},
   "source": [
    "# <center> Econ 590: Quantitative Economics (with Python) </center>\n",
    "## <center> Homework 1 </center>"
   ]
  },
  {
   "cell_type": "markdown",
   "metadata": {},
   "source": [
    "# <font color='red'>Instructions:</font>\n",
    "\n",
    "Expected submission for HW1: \n",
    "1. a Jupyternote notebook file created based on question 1\n",
    "2. a modified jupyter notebook file on the current file, name it as **username_hw1.ipynb**.( <font color='red'> make sure the file can be run smoothly from beginning to the end</font>):\n",
    "    - Your detailed answers to each question (compiled in one cell);\n",
    "    - The output from your cell\n",
    "    \n",
    "    \n"
   ]
  },
  {
   "cell_type": "markdown",
   "metadata": {},
   "source": [
    "# Question 1\n",
    "- Download and install Python Anaconda Distribution on your personal computer. \n",
    "- Open Jupyter and create a new Python 3 Notebook file *username*_HW1_Q1. Where *username* is your Purdue email without '@purdue'\n",
    "- Create a cell that prints \"Hello! My name is *first_name* *last_name*.\"\n",
    "- Submit that Q1 file separately (all other answers can be submitted together in a Notebook named *username*_HW1)"
   ]
  },
  {
   "cell_type": "markdown",
   "metadata": {},
   "source": [
    "# Question 2\n",
    "Convert the string \"12.3,14,15,27\" into a list of numbers and print the list to screen"
   ]
  },
  {
   "cell_type": "code",
   "execution_count": null,
   "metadata": {},
   "outputs": [],
   "source": [
    "# Your answers here"
   ]
  },
  {
   "cell_type": "markdown",
   "metadata": {},
   "source": [
    "# Question 3\n",
    "Modify the code below to calculate equilibrium in supply-demand model and print \n",
    "\n",
    "> Supply-Demand Model: \n",
    "- Demand Equation: Qd = 1000 - 10 * P \n",
    "- Supply Equation: Qs = 250 + 5 * P \n",
    "- Equilibrium: price = __ , quantity = __ \n",
    "\n",
    "Notice that you need print calculated equilibrium price and quantity. Recall the equilibrium occurs when the quantity supplied is equal to the quantity demanded."
   ]
  },
  {
   "cell_type": "code",
   "execution_count": 3,
   "metadata": {},
   "outputs": [
    {
     "name": "stdout",
     "output_type": "stream",
     "text": [
      "Supply-Demand Model:\n",
      "\t- Demand Equation: Qd = 1000 - 10 * P\n",
      "\t- Supply Equation: Qs = 250 + 5 * P\n"
     ]
    }
   ],
   "source": [
    "# STARTING POINT\n",
    "print(\"Supply-Demand Model:\")\n",
    "print(\"\\t- Demand Equation: Qd = 1000 - 10 * P\")\n",
    "print(\"\\t- Supply Equation: Qs = 250 + 5 * P\")\n",
    "\n",
    "#Calculate the equilibrium (i.e. find the price at which Qd=Qs)\n",
    "#Once you know the price find the quantity by using one of the equations above\n",
    "#Print the result"
   ]
  },
  {
   "cell_type": "markdown",
   "metadata": {},
   "source": [
    "# Question 4\n",
    "Suppose that the supply-demand model is given by the following \n",
    "\n",
    "> Supply-Demand Model: \n",
    "- Demand Equation: Qd = 1000 - 10 * P \n",
    "- Supply Equation: Qs = 250 + 5 * P \n",
    "\n",
    "Calculate and print the consumer surplus. Recall that  is the area between the demand curve and the market price"
   ]
  },
  {
   "cell_type": "code",
   "execution_count": null,
   "metadata": {},
   "outputs": [],
   "source": [
    "# Your answers here"
   ]
  },
  {
   "cell_type": "markdown",
   "metadata": {},
   "source": [
    "# Question 5\n",
    "Write a function called **q5** that takes a list of prices as an argument and determines the shortage amount for each price. (Negative shortage represents a surplus.) \n",
    "- **Input**: a list of floating point numbers (e.g., [100,125,50.5])\n",
    "- **Output**: a list of floating point number (e.g., if you run q5([100, 125,50.5]) the output should be [-250,-500,245.0])\n",
    "\n",
    "Use supply(.) and demand(.) functions provided in **ECON590_Week1.ipynb**."
   ]
  },
  {
   "cell_type": "code",
   "execution_count": 8,
   "metadata": {},
   "outputs": [],
   "source": [
    "# STARTING POINT\n",
    "#----------------- These are from ECON590_Week1.ipynb ----------------\n",
    "def supply(price):\n",
    "    '''Determine supply of a good at a given price. Input: … Output: …'''\n",
    "    qs = 250 + 5 * price\n",
    "    return qs\n",
    "\n",
    "def demand(price, slope = -5, intercept = 1000):\n",
    "    '''Determine supply of a good at a given price. Input: … Output: …'''\n",
    "    qd = intercept + slope * price\n",
    "    return qd\n",
    "#----------------------------------------------------------------------"
   ]
  }
 ],
 "metadata": {
  "kernelspec": {
   "display_name": "Python 3 (ipykernel)",
   "language": "python",
   "name": "python3"
  },
  "language_info": {
   "codemirror_mode": {
    "name": "ipython",
    "version": 3
   },
   "file_extension": ".py",
   "mimetype": "text/x-python",
   "name": "python",
   "nbconvert_exporter": "python",
   "pygments_lexer": "ipython3",
   "version": "3.9.7"
  }
 },
 "nbformat": 4,
 "nbformat_minor": 4
}
